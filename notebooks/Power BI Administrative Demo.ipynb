{
 "cells": [
  {
   "source": [
    "# Microsoft Power BI Cmdlets for Windows PowerShell and PowerShell Core\n",
    "The following cmdlets are available on PowerShell Gallery and can be installed in an elevated PowerShell session:\n",
    "- [Microsoft Power BI](https://docs.microsoft.com/en-us/powershell/power-bi/overview?view=powerbi-ps)\n",
    "- [Data Gateway](https://docs.microsoft.com/en-us/powershell/module/datagateway/?view=datagateway-ps)\n",
    "\n",
    "More Stuff\n"
   ],
   "cell_type": "markdown",
   "metadata": {}
  }
 ],
 "metadata": {
  "language_info": {
   "codemirror_mode": {
    "name": "ipython",
    "version": 3
   },
   "file_extension": ".py",
   "mimetype": "text/x-python",
   "name": "python",
   "nbconvert_exporter": "python",
   "pygments_lexer": "ipython3",
   "version": 3
  },
  "orig_nbformat": 2,
  "kernelspec": {
   "name": "python_defaultSpec_1593294211382",
   "display_name": "Python 3.8.3 64-bit"
  }
 },
 "nbformat": 4,
 "nbformat_minor": 2
}