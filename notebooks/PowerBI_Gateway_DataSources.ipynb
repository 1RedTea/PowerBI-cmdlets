{
 "cells": [
  {
   "cell_type": "markdown",
   "metadata": {},
   "source": [
    "# Connect to Power BI service\n",
    "Login with Azure Active Directory user authentication or Service Principal credentials.\n",
    "\n",
    "For Service Principal:\n",
    "- Connect-PowerBIServiceAccount -ServicePrincipal -Credential (Get-Credential)"
   ]
  },
  {
   "cell_type": "code",
   "execution_count": null,
   "metadata": {
    "tags": []
   },
   "outputs": [],
   "source": [
    "Connect-PowerBIServiceAccount"
   ]
  },
  {
   "cell_type": "markdown",
   "metadata": {},
   "source": [
    "# Scope\n",
    "\n",
    "Indicates the scope of the call.\n",
    "- -Scope Individual\n",
    "    - Returns only workspaces assigned to the caller.\n",
    "- -Scope Organization\n",
    "    - Returns all workspaces within a tenant (must be an administrator to initiate)."
   ]
  },
  {
   "cell_type": "code",
   "execution_count": null,
   "metadata": {},
   "outputs": [],
   "source": [
    "$scopeLevel = \"Individual\""
   ]
  },
  {
   "cell_type": "markdown",
   "metadata": {},
   "source": [
    "# Return a list of all Power BI group workspaces\n",
    "\n",
    "Return a listing of the Power BI group workspaces including Id, Name, IsReadOnly and IsOnDedicatedCapacity."
   ]
  },
  {
   "cell_type": "code",
   "execution_count": 10,
   "metadata": {
    "tags": []
   },
   "outputs": [],
   "source": [
    "$pbiWorkspaces = Get-PowerBIWorkspace -Scope $scopeLevel -First 1"
   ]
  },
  {
   "cell_type": "markdown",
   "metadata": {},
   "source": [
    "# Get Gateway Datasources\n",
    "\n",
    "\n",
    "Return a listing of all the Power BI artifcats within a workspace including additional attributes where applicable."
   ]
  },
  {
   "cell_type": "code",
   "execution_count": 13,
   "metadata": {
    "scrolled": true
   },
   "outputs": [
    {
     "name": "stdout",
     "output_type": "stream",
     "text": [
      "https://api.powerbi.com/v1.0/myorg/groups/f28d6da3-8af3-4c73-aed9-bdc8be50a4df/datasets/ead92c7c-38b8-4bc9-96a8-84be14131fe7/Default.GetBoundGatewayDatasources\n",
      "https://api.powerbi.com/v1.0/myorg/groups/f28d6da3-8af3-4c73-aed9-bdc8be50a4df/datasets/34ef7246-ee27-4f18-a8d8-29a90db8f644/Default.GetBoundGatewayDatasources\n",
      "https://api.powerbi.com/v1.0/myorg/groups/f28d6da3-8af3-4c73-aed9-bdc8be50a4df/datasets/4b932418-6faa-48bc-baec-3ce8fb8f4389/Default.GetBoundGatewayDatasources\n",
      "https://api.powerbi.com/v1.0/myorg/groups/f28d6da3-8af3-4c73-aed9-bdc8be50a4df/datasets/ead92c7c-38b8-4bc9-96a8-84be14131fe7/Default.GetBoundGatewayDatasources\n",
      "https://api.powerbi.com/v1.0/myorg/groups/f28d6da3-8af3-4c73-aed9-bdc8be50a4df/datasets/34ef7246-ee27-4f18-a8d8-29a90db8f644/Default.GetBoundGatewayDatasources\n",
      "https://api.powerbi.com/v1.0/myorg/groups/f28d6da3-8af3-4c73-aed9-bdc8be50a4df/datasets/4b932418-6faa-48bc-baec-3ce8fb8f4389/Default.GetBoundGatewayDatasources\n",
      "https://api.powerbi.com/v1.0/myorg/groups/f28d6da3-8af3-4c73-aed9-bdc8be50a4df/datasets/ead92c7c-38b8-4bc9-96a8-84be14131fe7/Default.GetBoundGatewayDatasources\n",
      "https://api.powerbi.com/v1.0/myorg/groups/f28d6da3-8af3-4c73-aed9-bdc8be50a4df/datasets/34ef7246-ee27-4f18-a8d8-29a90db8f644/Default.GetBoundGatewayDatasources\n",
      "https://api.powerbi.com/v1.0/myorg/groups/f28d6da3-8af3-4c73-aed9-bdc8be50a4df/datasets/4b932418-6faa-48bc-baec-3ce8fb8f4389/Default.GetBoundGatewayDatasources\n"
     ]
    }
   ],
   "source": [
    "$json = @()\n",
    "\n",
    "ForEach ($workspace in $pbiWorkspaces) {\n",
    "\n",
    "    $pbiDatasets += Get-PowerBIDataset -Scope $scopeLevel -WorkspaceId $workspace.Id\n",
    "    \n",
    "    ForEach ($pbiDataset in $pbiDatasets){\n",
    "    \n",
    "        $json += Invoke-PowerBIRestMethod -URL \"https://api.powerbi.com/v1.0/myorg/groups/$($workspace.Id)/datasets/$($pbiDataset.Id)/Default.GetBoundGatewayDatasources\" -Method GET\n",
    "        $json\n",
    "    }   \n",
    "}"
   ]
  }
 ],
 "metadata": {
  "kernelspec": {
   "display_name": ".NET (PowerShell)",
   "language": "PowerShell",
   "name": ".net-powershell"
  },
  "language_info": {
   "file_extension": ".ps1",
   "mimetype": "text/x-powershell",
   "name": "PowerShell",
   "pygments_lexer": "powershell",
   "version": "7.0"
  }
 },
 "nbformat": 4,
 "nbformat_minor": 4
}
