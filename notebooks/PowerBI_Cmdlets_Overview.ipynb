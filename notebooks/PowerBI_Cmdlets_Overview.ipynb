{
 "cells": [
  {
   "cell_type": "markdown",
   "metadata": {},
   "source": [
    "# Microsoft Power BI Cmdlets for Windows PowerShell and PowerShell Core\n",
    "The following cmdlets are available on PowerShell Gallery and can be installed in an elevated PowerShell session:\n",
    "- [Microsoft Power BI](https://docs.microsoft.com/en-us/powershell/power-bi/overview?view=powerbi-ps)\n",
    "- [Data Gateway](https://docs.microsoft.com/en-us/powershell/module/datagateway/?view=datagateway-ps)"
   ]
  },
  {
   "cell_type": "code",
   "execution_count": null,
   "metadata": {
    "scrolled": true,
    "tags": []
   },
   "outputs": [],
   "source": [
    "$modules = @(\"MicrosoftPowerBIMGMT\", \"DataGateway\")\n",
    "\n",
    "foreach ( $m in $modules ) \n",
    "{\n",
    "    if (Get-Module -ListAvailable -Name $m) {\n",
    "        write-host \"Module $m is already imported.\"\n",
    "    } \n",
    "    else {\n",
    "        Install-Module -Name $m -Force -Scope CurrentUser\n",
    "        Import-Module $m\n",
    "        write-host \"Module $m is now imported.\"\n",
    "    }\n",
    "}"
   ]
  },
  {
   "cell_type": "markdown",
   "metadata": {},
   "source": [
    "# Available Cmdlets\n",
    "Returns the available cmdlets from either the MicrosoftPowerBIMGMT or DataGateway module."
   ]
  },
  {
   "cell_type": "code",
   "execution_count": null,
   "metadata": {
    "scrolled": true,
    "tags": []
   },
   "outputs": [],
   "source": [
    "Get-Help *PowerBI* | Sort-Object Name | Format-Table -AutoSize"
   ]
  },
  {
   "cell_type": "code",
   "execution_count": null,
   "metadata": {},
   "outputs": [],
   "source": [
    "Get-Help *DataGateway* | Sort-Object Name | Format-Table -AutoSize"
   ]
  },
  {
   "cell_type": "markdown",
   "metadata": {},
   "source": [
    "# Connect to Power BI service\n",
    "Login with Azure Active Directory user authentication or Service Principal credentials.\n",
    "\n",
    "For Service Principal:\n",
    "- Connect-PowerBIServiceAccount -ServicePrincipal -Credential (Get-Credential)"
   ]
  },
  {
   "cell_type": "code",
   "execution_count": 2,
   "metadata": {
    "tags": []
   },
   "outputs": [
    {
     "name": "stdout",
     "output_type": "stream",
     "text": [
      "\n",
      "Environment : Public\n",
      "TenantId    : 72f988bf-86f1-41af-91ab-2d7cd011db47\n",
      "UserName    : alpowers@microsoft.com\n",
      "\n",
      "\n"
     ]
    }
   ],
   "source": [
    "Connect-PowerBIServiceAccount"
   ]
  },
  {
   "cell_type": "markdown",
   "metadata": {},
   "source": [
    "# Scope\n",
    "\n",
    "Indicates the scope of the call.\n",
    "- -Scope Individual\n",
    "    - Returns only workspaces assigned to the caller.\n",
    "- -Scope Organization\n",
    "    - Returns all workspaces within a tenant (must be an administrator to initiate)."
   ]
  },
  {
   "cell_type": "code",
   "execution_count": 3,
   "metadata": {},
   "outputs": [],
   "source": [
    "$scopeLevel = \"Individual\""
   ]
  },
  {
   "cell_type": "markdown",
   "metadata": {},
   "source": [
    "# Return a list of Power BI workspaces\n",
    "\n",
    "Return a listing of the Power BI workspaces including Id, Name, IsReadOnly and IsOnDedicatedCapacity.\n",
    "\n",
    "To list all workspaces, use the parameter -All"
   ]
  },
  {
   "cell_type": "code",
   "execution_count": null,
   "metadata": {
    "tags": []
   },
   "outputs": [],
   "source": [
    "$pbiWorkspaces = Get-PowerBIWorkspace -Scope $scopeLevel -All\n",
    "Write-Host \"Total Number of Workspaces: $($pbiWorkspaces.Count)`n\"\n",
    "\n",
    "Get-PowerBIWorkspace -Scope Individual -First 5"
   ]
  },
  {
   "cell_type": "markdown",
   "metadata": {},
   "source": [
    "# Return a list of Power BI datasets in a workspace\n",
    "\n",
    "Return a listing of the Power BI datasets within a workspace including the additional attributes WorkspaceId and Type."
   ]
  },
  {
   "cell_type": "code",
   "execution_count": null,
   "metadata": {},
   "outputs": [],
   "source": [
    "$pbiWorkspaces = Get-PowerBIWorkspace -Scope $scopeLevel -First 5\n",
    "\n",
    "$pbiDatasets = @()\n",
    "\n",
    "ForEach ($workspace in $pbiWorkspaces) {\n",
    "\n",
    "    $pbiDatasets += Get-PowerBIDataset -Scope $scopeLevel -WorkspaceId $workspace.Id | select *, @{Name=\"WorkspaceId\"; Expression={ $workspace.Id } }, @{Name=\"Type\"; Expression={ \"Dataset\" } }\n",
    "    \n",
    "}\n",
    "\n",
    "$pbiDatasets | Sort-Object -Property Id -Unique"
   ]
  },
  {
   "cell_type": "markdown",
   "metadata": {},
   "source": [
    "# Return a list of Power BI dataflows in a workspace\n",
    "\n",
    "Return a listing of the Power BI dataflows within a workspace including the additional attributes WorkspaceId and Type."
   ]
  },
  {
   "cell_type": "code",
   "execution_count": null,
   "metadata": {},
   "outputs": [],
   "source": [
    "$pbiWorkspaces = Get-PowerBIWorkspace -Scope $scopeLevel -First 5\n",
    "\n",
    "$pbiDataflows = @()\n",
    "\n",
    "ForEach ($workspace in $pbiWorkspaces) {\n",
    "\n",
    "    $pbiDataflows += Get-PowerBIDataflow -Scope $scopeLevel -WorkspaceId $workspace.Id | select *, @{Name=\"WorkspaceId\"; Expression={ $workspace.Id } }, @{Name=\"Type\"; Expression={ \"Dataflow\" } }\n",
    "    \n",
    "}\n",
    "\n",
    "$pbiDataflows | Sort-Object -Property Id -Unique"
   ]
  },
  {
   "cell_type": "markdown",
   "metadata": {},
   "source": [
    "# Return a list of Power BI datasources in a dataflow in a workspace\n",
    "\n",
    "Return a listing of the Power BI datasources in a dataflow within a workspace including the additional attributes WorkspaceId, DataflowId and Type."
   ]
  },
  {
   "cell_type": "code",
   "execution_count": null,
   "metadata": {},
   "outputs": [],
   "source": [
    "$pbiWorkspaces = Get-PowerBIWorkspace -Scope $scopeLevel -First 5\n",
    "\n",
    "$pbiDataflowDatasources = @()\n",
    "\n",
    "ForEach ($workspace in $pbiWorkspaces) {\n",
    "\n",
    "    $pbiDataflows += Get-PowerBIDataflow -Scope $scopeLevel -WorkspaceId $workspace.Id\n",
    "\n",
    "    ForEach ($dataflow in $pbiDataflows) {\n",
    "\n",
    "        $pbiDataflowDatasources += Get-PowerBIDataflowDatasource -Scope $scopeLevel -WorkspaceId $workspace.Id -DataflowId $dataflow.Id | select *, @{Name=\"WorkspaceId\"; Expression={ $workspace.Id } }, @{Name=\"DataflowId\"; Expression={ $dataflow.Id } }, @{Name=\"Type\"; Expression={ \"Dataflow Datasource\" } }\n",
    "\n",
    "    }\n",
    "    \n",
    "}\n",
    "\n",
    "$pbiDataflowDatasources | Sort-Object -Property Id -Unique"
   ]
  },
  {
   "cell_type": "markdown",
   "metadata": {},
   "source": [
    "# Return a list of Power BI reports in a workspace\n",
    "\n",
    "Return a listing of the Power BI reports within a workspace including the additional attributes WorkspaceId and Type."
   ]
  },
  {
   "cell_type": "code",
   "execution_count": null,
   "metadata": {},
   "outputs": [],
   "source": [
    "$pbiWorkspaces = Get-PowerBIWorkspace -Scope $scopeLevel -First 5\n",
    "\n",
    "$pbiReports = @()\n",
    "\n",
    "ForEach ($workspace in $pbiWorkspaces) {\n",
    "\n",
    "    $pbiReports += Get-PowerBIReport -Scope $scopeLevel -WorkspaceId $workspace.Id | select *, @{Name=\"WorkspaceId\"; Expression={ $workspace.Id } }, @{Name=\"Type\"; Expression={ \"Report\" } }\n",
    "    \n",
    "}\n",
    "\n",
    "$pbiReports | Sort-Object -Property Id -Unique"
   ]
  },
  {
   "cell_type": "markdown",
   "metadata": {},
   "source": [
    "# Return a list of Power BI dashboards in a workspace\n",
    "\n",
    "Return a listing of the Power BI dasbhoards within a workspace including the additional attributes WorkspaceId and Type."
   ]
  },
  {
   "cell_type": "code",
   "execution_count": null,
   "metadata": {},
   "outputs": [],
   "source": [
    "$pbiWorkspaces = Get-PowerBIWorkspace -Scope $scopeLevel -First 5\n",
    "\n",
    "$pbiDashboards = @()\n",
    "\n",
    "ForEach ($workspace in $pbiWorkspaces) {\n",
    "\n",
    "    $pbiDashboards += Get-PowerBIDashboard -Scope $scopeLevel -WorkspaceId $workspace.Id | select *, @{Name=\"WorkspaceId\"; Expression={ $workspace.Id } }, @{Name=\"Type\"; Expression={ \"Dashboard\" } }\n",
    "    \n",
    "}\n",
    "\n",
    "$pbiDashboards | Sort-Object -Property Id -Unique"
   ]
  },
  {
   "cell_type": "markdown",
   "metadata": {},
   "source": [
    "# Return a list of Power BI tiles on a dashboard in a workspace\n",
    "\n",
    "Return a listing of the Power BI tiles on a dashboard within a workspace including the additional attributes WorkspaceId, DashboardId and Type.\n",
    "\n"
   ]
  },
  {
   "cell_type": "code",
   "execution_count": null,
   "metadata": {},
   "outputs": [],
   "source": [
    "$pbiWorkspaces = Get-PowerBIWorkspace -Scope $scopeLevel -First 5\n",
    "\n",
    "$pbiTiles = @()\n",
    "\n",
    "ForEach ($workspace in $pbiWorkspaces) {\n",
    "\n",
    "    $pbiDashboards = Get-PowerBIDashboard -Scope $scopeLevel -WorkspaceId $workspace.Id\n",
    "\n",
    "    ForEach ($dashboard in $pbiDashboards) {\n",
    "\n",
    "        $pbiTiles += Get-PowerBITile -Scope $scopeLevel -WorkspaceId $workspace.Id -DashboardId $dashboard.Id | select *, @{Name=\"WorkspaceId\"; Expression={ $workspace.Id } }, @{Name=\"DashboardId\"; Expression={ $dashboard.Id } }, @{Name=\"Type\"; Expression={ \"Tile\" } }\n",
    "\n",
    "    }\n",
    "    \n",
    "}\n",
    "\n",
    "$pbiTiles | Sort-Object -Property Id -Unique"
   ]
  },
  {
   "cell_type": "markdown",
   "metadata": {},
   "source": [
    "# Return a list of the Power BI import state of a dataset in a workspace\n",
    "\n",
    "Return a listing of the Power BI import state in a workspace including the additional attribute WorkspaceId.\n",
    "\n",
    "- ImportState\n",
    "    - Succeeded\n",
    "    - Failed"
   ]
  },
  {
   "cell_type": "code",
   "execution_count": 4,
   "metadata": {
    "tags": []
   },
   "outputs": [
    {
     "name": "stdout",
     "output_type": "stream",
     "text": [
      "\n",
      "Id          : 27785472-0ad9-4d66-b500-2a10c941e66a\n",
      "Name        : beta-SCR FY19 IPCS Report 2.pbix\n",
      "ImportState : Succeeded\n",
      "Reports     : {beta-SCR FY19 IPCS Report 2}\n",
      "Datasets    : {beta-SCR FY19 IPCS Report 2}\n",
      "Created     : 3/5/2019 10:34:34 PM\n",
      "Updated     : 6/21/2019 2:56:31 PM\n",
      "WorkspaceId : e9d06a02-42f6-4471-8f0f-738311fe6adb\n",
      "\n",
      "Id          : 5e041fee-de85-4766-a629-e99303d4bc9d\n",
      "Name        : beta-SCR FY19 IPCS Report.pbix\n",
      "ImportState : Failed\n",
      "Reports     : {beta-SCR FY19 IPCS Report}\n",
      "Datasets    : {beta-SCR FY19 IPCS Report}\n",
      "Created     : 2/15/2019 3:49:21 PM\n",
      "Updated     : 3/5/2019 5:18:35 PM\n",
      "WorkspaceId : e9d06a02-42f6-4471-8f0f-738311fe6adb\n",
      "\n",
      "Id          : 7969059d-f74b-4a90-b6a6-861eec456ee9\n",
      "Name        : US Sales Analysis.pbix\n",
      "ImportState : Succeeded\n",
      "Reports     : {}\n",
      "Datasets    : {US Sales Analysis}\n",
      "Created     : 5/11/2017 5:08:57 PM\n",
      "Updated     : 5/11/2017 5:08:57 PM\n",
      "WorkspaceId : 481b3fc0-4863-4720-a316-e7b35d2c1a62\n",
      "\n",
      "Id          : 95d18dab-3ab2-453f-aedf-ad9ae5ff4d46\n",
      "Name        : beta-SCR FY19 IPCS Report 2 ACR Subscription.pbix\n",
      "ImportState : Succeeded\n",
      "Reports     : {beta-SCR FY19 IPCS Report 2 ACR Subscription}\n",
      "Datasets    : {beta-SCR FY19 IPCS Report 2 ACR Subscription}\n",
      "Created     : 6/7/2019 6:50:45 PM\n",
      "Updated     : 6/10/2019 2:31:42 PM\n",
      "WorkspaceId : e9d06a02-42f6-4471-8f0f-738311fe6adb\n",
      "\n",
      "Id          : 9fbb2119-690a-476b-98cd-180aeac037e0\n",
      "Name        : QueryAD.pbix\n",
      "ImportState : Succeeded\n",
      "Reports     : {QueryAD}\n",
      "Datasets    : {QueryAD}\n",
      "Created     : 2/2/2017 6:30:16 PM\n",
      "Updated     : 2/2/2017 6:30:16 PM\n",
      "WorkspaceId : f28d6da3-8af3-4c73-aed9-bdc8be50a4df\n",
      "\n",
      "Id          : f8feb1e8-9124-4f50-8b9a-f9b8309f85d0\n",
      "Name        : TeamLocations.pbix\n",
      "ImportState : Succeeded\n",
      "Reports     : {TeamLocations}\n",
      "Datasets    : {TeamLocations}\n",
      "Created     : 9/14/2016 8:45:07 PM\n",
      "Updated     : 11/11/2016 1:32:59 PM\n",
      "WorkspaceId : f28d6da3-8af3-4c73-aed9-bdc8be50a4df\n",
      "\n",
      "\n"
     ]
    }
   ],
   "source": [
    "$pbiWorkspaces = Get-PowerBIWorkspace -Scope $scopeLevel -First 5\n",
    "\n",
    "$pbiImports = @()\n",
    "\n",
    "ForEach ($workspace in $pbiWorkspaces) {\n",
    "\n",
    "    $pbiImports += Get-PowerBIImport -Scope $scopeLevel -WorkspaceId $workspace.Id | select *, @{Name=\"WorkspaceId\"; Expression={ $workspace.Id } }\n",
    "    \n",
    "}\n",
    "\n",
    "$pbiImports | Sort-Object -Property Id -Unique"
   ]
  },
  {
   "cell_type": "markdown",
   "metadata": {},
   "source": [
    "# Return a list of the Power BI data sources of a dataset in a workspace\n",
    "\n",
    "Return a listing of the Power BI data sources of a dataset in a workspace including the additional attributes WorkspaceId and Type."
   ]
  },
  {
   "cell_type": "code",
   "execution_count": null,
   "metadata": {
    "tags": []
   },
   "outputs": [],
   "source": [
    "$pbiWorkspaces = Get-PowerBIWorkspace -Scope $scopeLevel -First 5\n",
    "\n",
    "$pbiDatasets = @()\n",
    "\n",
    "ForEach ($workspace in $pbiWorkspaces) {\n",
    "\n",
    "    $pbiDashboards = Get-PowerBIDashboard -Scope $scopeLevel -WorkspaceId $workspace.Id\n",
    "\n",
    "    ForEach ($dashboard in $pbiDashboards) {\n",
    "\n",
    "        $pbiTiles += Get-PowerBITile -Scope $scopeLevel -WorkspaceId $workspace.Id -DashboardId $dashboard.Id | select *, @{Name=\"WorkspaceId\"; Expression={ $workspace.Id } }, @{Name=\"DashboardId\"; Expression={ $dashboard.Id } }, @{Name=\"Type\"; Expression={ \"Tile\" } }\n",
    "\n",
    "    }\n",
    "    \n",
    "}\n",
    "\n",
    "$pbiTiles | Sort-Object -Property Id -Unique"
   ]
  }
 ],
 "metadata": {
  "kernelspec": {
   "display_name": ".NET (PowerShell)",
   "language": "PowerShell",
   "name": ".net-powershell"
  },
  "language_info": {
   "file_extension": ".ps1",
   "mimetype": "text/x-powershell",
   "name": "PowerShell",
   "pygments_lexer": "powershell",
   "version": "7.0"
  }
 },
 "nbformat": 4,
 "nbformat_minor": 4
}
