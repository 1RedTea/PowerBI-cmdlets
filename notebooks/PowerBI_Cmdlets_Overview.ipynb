{
 "cells": [
  {
   "cell_type": "markdown",
   "metadata": {},
   "source": [
    "# Microsoft Power BI Cmdlets for Windows PowerShell and PowerShell Core\n",
    "The following cmdlets are available on PowerShell Gallery and can be installed in an elevated PowerShell session:\n",
    "- [Microsoft Power BI](https://docs.microsoft.com/en-us/powershell/power-bi/overview?view=powerbi-ps)\n",
    "- [Data Gateway](https://docs.microsoft.com/en-us/powershell/module/datagateway/?view=datagateway-ps)"
   ]
  },
  {
   "cell_type": "code",
   "execution_count": 3,
   "metadata": {
    "tags": []
   },
   "outputs": [
    {
     "output_type": "stream",
     "name": "stdout",
     "text": "\u001b[93mVERBOSE: Populating RepositorySourceLocation property for module MicrosoftPowerBIMgmt.\u001b[0m\nModule MicrosoftPowerBIMGMT is already imported.\n\u001b[93mVERBOSE: Populating RepositorySourceLocation property for module DataGateway.\u001b[0m\nModule DataGateway is already imported.\n"
    }
   ],
   "source": [
    "$modules = @(\"MicrosoftPowerBIMGMT\", \"DataGateway\")\n",
    "\n",
    "foreach ( $m in $modules ) \n",
    "{\n",
    "    if (Get-Module -ListAvailable -Name $m -Verbose) {\n",
    "        write-host \"Module $m is already imported.\"\n",
    "    } \n",
    "    else {\n",
    "        Install-Module -Name $m -Force -Verbose -Scope CurrentUser\n",
    "        Import-Module $m -Verbose\n",
    "    }\n",
    "}"
   ]
  },
  {
   "cell_type": "markdown",
   "metadata": {},
   "source": [
    "# Available Cmdlets\n",
    "Returns the available cmdlets from either the MicrosoftPowerBIMGMT or DataGateway module."
   ]
  },
  {
   "cell_type": "code",
   "execution_count": 4,
   "metadata": {
    "tags": []
   },
   "outputs": [
    {
     "data": {
      "text/plain": ""
     },
     "metadata": {},
     "output_type": "display_data"
    },
    {
     "name": "stdout",
     "output_type": "stream",
     "text": "\nName                                 Category Module                          Synopsis\n----                                 -------- ------                          --------\nAdd-PowerBIDataset                   Cmdlet   MicrosoftPowerBIMgmt.Data       Adds a dataset to a …\nAdd-PowerBIEncryptionKey             Cmdlet   MicrosoftPowerBIMgmt.Admin      Adds an encryption k…\nAdd-PowerBIGroupUser                 Alias                                    Add-PowerBIWorkspace…\nAdd-PowerBIRow                       Cmdlet   MicrosoftPowerBIMgmt.Data       Adds rows to the spe…\nAdd-PowerBIServiceAccount            Alias                                    Connect-PowerBIServi…\nAdd-PowerBIWorkspaceUser             Cmdlet   MicrosoftPowerBIMgmt.Workspaces Gives permissions to…\nConnect-PowerBIServiceAccount        Cmdlet   MicrosoftPowerBIMgmt.Profile    Log in to the Power …\nCopy-PowerBIReport                   Cmdlet   MicrosoftPowerBIMgmt.Reports    Creates a copy of th…\nCopy-PowerBITile                     Cmdlet   MicrosoftPowerBIMgmt.Reports    Creates a copy of th…\nDisconnect-PowerBIServiceAccount     Cmdlet   MicrosoftPowerBIMgmt.Profile    Log out of the Power…\nExport-PowerBIDataflow               Cmdlet   MicrosoftPowerBIMgmt.Data       Exports a Power BI d…\nExport-PowerBIReport                 Cmdlet   MicrosoftPowerBIMgmt.Reports    Exports a Power BI r…\nGet-PowerBIAccessToken               Cmdlet   MicrosoftPowerBIMgmt.Profile    Gets the access toke…\nGet-PowerBIActivityEvent             Cmdlet   MicrosoftPowerBIMgmt.Admin      Retrieves the audit …\nGet-PowerBIActivityEvents            Alias                                    Get-PowerBIActivityE…\nGet-PowerBICapacity                  Cmdlet   MicrosoftPowerBIMgmt.Capacities Returns a list of Po…\nGet-PowerBIDashboard                 Cmdlet   MicrosoftPowerBIMgmt.Reports    Returns a list of Po…\nGet-PowerBIDashboardTile             Alias                                    Get-PowerBITile\nGet-PowerBIDataflow                  Cmdlet   MicrosoftPowerBIMgmt.Data       Returns a list of Po…\nGet-PowerBIDataflowDatasource        Cmdlet   MicrosoftPowerBIMgmt.Data       Returns a list of Po…\nGet-PowerBIDataset                   Cmdlet   MicrosoftPowerBIMgmt.Data       Returns a list of Po…\nGet-PowerBIDatasource                Cmdlet   MicrosoftPowerBIMgmt.Data       Returns a list of Po…\nGet-PowerBIEncryptionKey             Cmdlet   MicrosoftPowerBIMgmt.Admin      Retrieves the encryp…\nGet-PowerBIGroup                     Alias                                    Get-PowerBIWorkspace\nGet-PowerBIGroupMigrationStatus      Alias                                    Get-PowerBIWorkspace…\nGet-PowerBIImport                    Cmdlet   MicrosoftPowerBIMgmt.Reports    Returns a list of Po…\nGet-PowerBIReport                    Cmdlet   MicrosoftPowerBIMgmt.Reports    Returns a list of Po…\nGet-PowerBITable                     Cmdlet   MicrosoftPowerBIMgmt.Data       Returns a list of Po…\nGet-PowerBITile                      Cmdlet   MicrosoftPowerBIMgmt.Reports    Returns a list of Po…\nGet-PowerBIWorkspace                 Cmdlet   MicrosoftPowerBIMgmt.Workspaces Returns a list of Po…\nGet-PowerBIWorkspaceEncryptionStatus Cmdlet   MicrosoftPowerBIMgmt.Admin      List Power BI worksp…\nGet-PowerBIWorkspaceMigrationStatus  Cmdlet   MicrosoftPowerBIMgmt.Workspaces Gets Power BI worksp…\nInvoke-PowerBIRestMethod             Cmdlet   MicrosoftPowerBIMgmt.Profile    Executes a REST call…\nLogin-PowerBI                        Alias                                    Connect-PowerBIServi…\nLogin-PowerBIServiceAccount          Alias                                    Connect-PowerBIServi…\nLogout-PowerBI                       Alias                                    Disconnect-PowerBISe…\nLogout-PowerBIServiceAccount         Alias                                    Disconnect-PowerBISe…\nNew-PowerBIColumn                    Cmdlet   MicrosoftPowerBIMgmt.Data       Creates a new Power …\nNew-PowerBIDashboard                 Cmdlet   MicrosoftPowerBIMgmt.Reports    Creates a new empty …\nNew-PowerBIDataset                   Cmdlet   MicrosoftPowerBIMgmt.Data       Creates a new Power …\nNew-PowerBIGroup                     Alias                                    New-PowerBIWorkspace\nNew-PowerBIReport                    Cmdlet   MicrosoftPowerBIMgmt.Reports    Creates a Power BI r…\nNew-PowerBITable                     Cmdlet   MicrosoftPowerBIMgmt.Data       Creates a new Power …\nNew-PowerBIWorkspace                 Cmdlet   MicrosoftPowerBIMgmt.Workspaces Creates a new Power …\nRemove-PowerBIGroupUser              Alias                                    Remove-PowerBIWorksp…\nRemove-PowerBIReport                 Cmdlet   MicrosoftPowerBIMgmt.Reports    Deletes a Power BI r…\nRemove-PowerBIRow                    Cmdlet   MicrosoftPowerBIMgmt.Data       Removes rows from a …\nRemove-PowerBIServiceAccount         Alias                                    Disconnect-PowerBISe…\nRemove-PowerBIWorkspaceUser          Cmdlet   MicrosoftPowerBIMgmt.Workspaces Removes permissions …\nResolve-PowerBIError                 Cmdlet   MicrosoftPowerBIMgmt.Profile    Shows detailed error…\nRestore-PowerBIGroup                 Alias                                    Restore-PowerBIWorks…\nRestore-PowerBIWorkspace             Cmdlet   MicrosoftPowerBIMgmt.Workspaces Restores a deleted P…\nRotate-PowerBIEncryptionKey          Alias                                    Switch-PowerBIEncryp…\nSet-PowerBICapacityEncryptionKey     Cmdlet   MicrosoftPowerBIMgmt.Admin      Updates the encrypti…\nSet-PowerBIDataset                   Cmdlet   MicrosoftPowerBIMgmt.Data       Updates the properti…\nSet-PowerBIGroup                     Alias                                    Set-PowerBIWorkspace\nSet-PowerBIServiceAccount            Alias                                    Connect-PowerBIServi…\nSet-PowerBITable                     Cmdlet   MicrosoftPowerBIMgmt.Data       Updates the metadata…\nSet-PowerBIWorkspace                 Cmdlet   MicrosoftPowerBIMgmt.Workspaces Updates a Power BI w…\nSwitch-PowerBIEncryptionKey          Cmdlet   MicrosoftPowerBIMgmt.Admin      Switch the encryptio…\n\n"
    }
   ],
   "source": [
    "Get-Help *PowerBI* | Sort-Object Name | Format-Table -AutoSize"
   ]
  },
  {
   "cell_type": "code",
   "execution_count": 5,
   "metadata": {
    "tags": []
   },
   "outputs": [
    {
     "data": {
      "text/plain": ""
     },
     "metadata": {},
     "output_type": "display_data"
    },
    {
     "name": "stdout",
     "output_type": "stream",
     "text": "\nName                                    Category Module              Synopsis\n----                                    -------- ------              --------\nAdd-DataGatewayCluster                  Cmdlet   DataGateway         Creates a new data gateway cl…\nAdd-DataGatewayClusterDatasourceUser    Cmdlet   DataGateway         Grants a user permission to u…\nAdd-DataGatewayClusterUser              Cmdlet   DataGateway         Add user and associated permi…\nConnect-DataGatewayServiceAccount       Cmdlet   DataGateway.Profile Connect-DataGatewayServiceAcc…\nDisconnect-DataGatewayServiceAccount    Cmdlet   DataGateway.Profile Disconnect-DataGatewayService…\nGet-DataGatewayAccessToken              Cmdlet   DataGateway.Profile Get-DataGatewayAccessToken…\nGet-DataGatewayCluster                  Cmdlet   DataGateway         Get gateway clusters for the …\nGet-DataGatewayClusterDatasource        Cmdlet   DataGateway         Gets Power BI data sources fo…\nGet-DataGatewayClusterDatasourceStatus  Cmdlet   DataGateway         Checks the connectivity statu…\nGet-DataGatewayClusterDatasourceUser    Cmdlet   DataGateway         Gets a list of users who have…\nGet-DataGatewayClusterStatus            Cmdlet   DataGateway         Gets gateway cluster status\nGet-DataGatewayInstaller                Cmdlet   DataGateway         Get list of users who are aut…\nGet-DataGatewayRegion                   Cmdlet   DataGateway         Gets all gateway Azure regions\nGet-DataGatewayTenantPolicy             Cmdlet   DataGateway         Gets the gateway installation…\nInstall-DataGateway                     Cmdlet   DataGateway         Downloads and installs the ga…\nRemove-DataGatewayCluster               Cmdlet   DataGateway         Removes a gateway cluster. Th…\nRemove-DataGatewayClusterDatasource     Cmdlet   DataGateway         Removes the specified Power B…\nRemove-DataGatewayClusterDatasourceUser Cmdlet   DataGateway         Removes the specified user fr…\nRemove-DataGatewayClusterMember         Cmdlet   DataGateway         Remove gateway from gateway c…\nRemove-DataGatewayClusterUser           Cmdlet   DataGateway         Removes users (including admi…\nResolve-DataGatewayError                Cmdlet   DataGateway.Profile Resolve-DataGatewayError…\nSet-DataGatewayCluster                  Cmdlet   DataGateway         Set attributes of an existing…\nSet-DataGatewayClusterDatasource        Cmdlet   DataGateway         Set the properties of the spe…\nSet-DataGatewayInstaller                Cmdlet   DataGateway         Modify list of users who can …\nSet-DataGatewayTenantPolicy             Cmdlet   DataGateway         Set the gateway installation …\n\n"
    }
   ],
   "source": [
    "Get-Help *DataGateway* | Sort-Object Name | Format-Table -AutoSize"
   ]
  },
  {
   "cell_type": "markdown",
   "metadata": {},
   "source": [
    "# Connect to Power BI service\n",
    "Login with Azure Active Directory user authentication or Service Principal credentials.\n",
    "\n",
    "For Service Principal:\n",
    "- Connect-PowerBIServiceAccount -ServicePrincipal -Credential (Get-Credential)"
   ]
  },
  {
   "cell_type": "code",
   "execution_count": null,
   "metadata": {},
   "outputs": [],
   "source": [
    "Connect-PowerBIServiceAccount"
   ]
  },
  {
   "cell_type": "markdown",
   "metadata": {},
   "source": [
    "# Scope\n",
    "\n",
    "Indicates the scope of the call.\n",
    "- -Scope Individual\n",
    "    - Returns only workspaces assigned to the caller.\n",
    "- -Scope Organization\n",
    "    - Returns all workspaces within a tenant (must be an administrator to initiate)."
   ]
  },
  {
   "cell_type": "code",
   "execution_count": null,
   "metadata": {},
   "outputs": [],
   "source": [
    "$scopeLevel = \"Individual\""
   ]
  },
  {
   "cell_type": "markdown",
   "metadata": {},
   "source": [
    "# Return a list of Power BI workspaces\n",
    "\n",
    "Return a listing of the Power BI workspaces including Id, Name, IsReadOnly and IsOnDedicatedCapacity.\n",
    "\n",
    "To list all workspaces, use the parameter -All"
   ]
  },
  {
   "cell_type": "code",
   "execution_count": null,
   "metadata": {},
   "outputs": [],
   "source": [
    "$pbiWorkspaces = Get-PowerBIWorkspace -Scope $scopeLevel -All\n",
    "Write-Host \"Total Number of Workspaces: $($pbiWorkspaces.Count)`n\"\n",
    "\n",
    "Get-PowerBIWorkspace -Scope Individual -First 5"
   ]
  },
  {
   "cell_type": "markdown",
   "metadata": {},
   "source": [
    "# Return a list of Power BI datasets in a workspace\n",
    "\n",
    "Return a listing of the Power BI datasets within a workspace including the additional attributes WorkspaceId and Type."
   ]
  },
  {
   "cell_type": "code",
   "execution_count": null,
   "metadata": {},
   "outputs": [],
   "source": [
    "$pbiWorkspaces = Get-PowerBIWorkspace -Scope $scopeLevel -First 5\n",
    "\n",
    "$pbiDatasets = @()\n",
    "\n",
    "ForEach ($workspace in $pbiWorkspaces) {\n",
    "\n",
    "    $pbiDatasets += Get-PowerBIDataset -Scope $scopeLevel -WorkspaceId $workspace.Id | select *, @{Name=\"WorkspaceId\"; Expression={ $workspace.Id } }, @{Name=\"Type\"; Expression={ \"Dataset\" } }\n",
    "    \n",
    "}\n",
    "\n",
    "$pbiDatasets | Sort-Object -Property Id -Unique"
   ]
  },
  {
   "cell_type": "markdown",
   "metadata": {},
   "source": [
    "# Return a list of Power BI dataflows in a workspace\n",
    "\n",
    "Return a listing of the Power BI dataflows within a workspace including the additional attributes WorkspaceId and Type."
   ]
  },
  {
   "cell_type": "code",
   "execution_count": null,
   "metadata": {},
   "outputs": [],
   "source": [
    "$pbiWorkspaces = Get-PowerBIWorkspace -Scope $scopeLevel -First 5\n",
    "\n",
    "$pbiDataflows = @()\n",
    "\n",
    "ForEach ($workspace in $pbiWorkspaces) {\n",
    "\n",
    "    $pbiDataflows += Get-PowerBIDataflow -Scope $scopeLevel -WorkspaceId $workspace.Id | select *, @{Name=\"WorkspaceId\"; Expression={ $workspace.Id } }, @{Name=\"Type\"; Expression={ \"Dataflow\" } }\n",
    "    \n",
    "}\n",
    "\n",
    "$pbiDataflows | Sort-Object -Property Id -Unique"
   ]
  },
  {
   "cell_type": "markdown",
   "metadata": {},
   "source": [
    "# Return a list of Power BI datasources in a dataflow in a workspace\n",
    "\n",
    "Return a listing of the Power BI datasources in a dataflow within a workspace including the additional attributes WorkspaceId, DataflowId and Type."
   ]
  },
  {
   "cell_type": "code",
   "execution_count": null,
   "metadata": {},
   "outputs": [],
   "source": [
    "$pbiWorkspaces = Get-PowerBIWorkspace -Scope $scopeLevel -First 5\n",
    "\n",
    "$pbiDataflowDatasources = @()\n",
    "\n",
    "ForEach ($workspace in $pbiWorkspaces) {\n",
    "\n",
    "    $pbiDataflows += Get-PowerBIDataflow -Scope $scopeLevel -WorkspaceId $workspace.Id\n",
    "\n",
    "    ForEach ($dataflow in $pbiDataflows) {\n",
    "\n",
    "        $pbiDataflowDatasources += Get-PowerBIDataflowDatasource -Scope $scopeLevel -WorkspaceId $workspace.Id -DataflowId $dataflow.Id | select *, @{Name=\"WorkspaceId\"; Expression={ $workspace.Id } }, @{Name=\"DataflowId\"; Expression={ $dataflow.Id } }, @{Name=\"Type\"; Expression={ \"Dataflow Datasource\" } }\n",
    "\n",
    "    }\n",
    "    \n",
    "}\n",
    "\n",
    "$pbiDataflowDatasources | Sort-Object -Property Id -Unique"
   ]
  },
  {
   "cell_type": "markdown",
   "metadata": {},
   "source": [
    "# Return a list of Power BI reports in a workspace\n",
    "\n",
    "Return a listing of the Power BI reports within a workspace including the additional attributes WorkspaceId and Type."
   ]
  },
  {
   "cell_type": "code",
   "execution_count": null,
   "metadata": {},
   "outputs": [],
   "source": [
    "$pbiWorkspaces = Get-PowerBIWorkspace -Scope $scopeLevel -First 5\n",
    "\n",
    "$pbiReports = @()\n",
    "\n",
    "ForEach ($workspace in $pbiWorkspaces) {\n",
    "\n",
    "    $pbiReports += Get-PowerBIReport -Scope $scopeLevel -WorkspaceId $workspace.Id | select *, @{Name=\"WorkspaceId\"; Expression={ $workspace.Id } }, @{Name=\"Type\"; Expression={ \"Report\" } }\n",
    "    \n",
    "}\n",
    "\n",
    "$pbiReports | Sort-Object -Property Id -Unique"
   ]
  },
  {
   "cell_type": "markdown",
   "metadata": {},
   "source": [
    "# Return a list of Power BI dashboards in a workspace\n",
    "\n",
    "Return a listing of the Power BI dasbhoards within a workspace including the additional attributes WorkspaceId and Type."
   ]
  },
  {
   "cell_type": "code",
   "execution_count": null,
   "metadata": {},
   "outputs": [],
   "source": [
    "$pbiWorkspaces = Get-PowerBIWorkspace -Scope $scopeLevel -First 5\n",
    "\n",
    "$pbiDashboards = @()\n",
    "\n",
    "ForEach ($workspace in $pbiWorkspaces) {\n",
    "\n",
    "    $pbiDashboards += Get-PowerBIDashboard -Scope $scopeLevel -WorkspaceId $workspace.Id | select *, @{Name=\"WorkspaceId\"; Expression={ $workspace.Id } }, @{Name=\"Type\"; Expression={ \"Dashboard\" } }\n",
    "    \n",
    "}\n",
    "\n",
    "$pbiDashboards | Sort-Object -Property Id -Unique"
   ]
  },
  {
   "cell_type": "markdown",
   "metadata": {},
   "source": [
    "# Return a list of Power BI tiles on a dashboard in a workspace\n",
    "\n",
    "Return a listing of the Power BI tiles on a dashboard within a workspace including the additional attributes WorkspaceId, DashboardId and Type.\n",
    "\n"
   ]
  },
  {
   "cell_type": "code",
   "execution_count": null,
   "metadata": {},
   "outputs": [],
   "source": [
    "$pbiWorkspaces = Get-PowerBIWorkspace -Scope $scopeLevel -First 5\n",
    "\n",
    "$pbiTiles = @()\n",
    "\n",
    "ForEach ($workspace in $pbiWorkspaces) {\n",
    "\n",
    "    $pbiDashboards = Get-PowerBIDashboard -Scope $scopeLevel -WorkspaceId $workspace.Id\n",
    "\n",
    "    ForEach ($dashboard in $pbiDashboards) {\n",
    "\n",
    "        $pbiTiles += Get-PowerBITile -Scope $scopeLevel -WorkspaceId $workspace.Id -DashboardId $dashboard.Id | select *, @{Name=\"WorkspaceId\"; Expression={ $workspace.Id } }, @{Name=\"DashboardId\"; Expression={ $dashboard.Id } }, @{Name=\"Type\"; Expression={ \"Tile\" } }\n",
    "\n",
    "    }\n",
    "    \n",
    "}\n",
    "\n",
    "$pbiTiles | Sort-Object -Property Id -Unique"
   ]
  },
  {
   "cell_type": "markdown",
   "metadata": {},
   "source": [
    "# Return a list of the Power BI import state of a dataset in a workspace\n",
    "\n",
    "Return a listing of the Power BI import state in a workspace including the additional attribute WorkspaceId.\n",
    "\n",
    "- ImportState\n",
    "    - Succeeded\n",
    "    - Failed"
   ]
  },
  {
   "cell_type": "code",
   "execution_count": null,
   "metadata": {},
   "outputs": [],
   "source": [
    "$pbiWorkspaces = Get-PowerBIWorkspace -Scope $scopeLevel -First 5\n",
    "\n",
    "$pbiImports = @()\n",
    "\n",
    "ForEach ($workspace in $pbiWorkspaces) {\n",
    "\n",
    "    $pbiImports += Get-PowerBIImport -Scope $scopeLevel -WorkspaceId $workspace.Id | select *, @{Name=\"WorkspaceId\"; Expression={ $workspace.Id } }\n",
    "    \n",
    "}\n",
    "\n",
    "$pbiImports | Sort-Object -Property Id -Unique"
   ]
  },
  {
   "cell_type": "markdown",
   "metadata": {},
   "source": [
    "# Return a list of the Power BI data sources of a dataset in a workspace\n",
    "\n",
    "Return a listing of the Power BI data sources of a dataset in a workspace including the additional attributes WorkspaceId and Type."
   ]
  },
  {
   "cell_type": "code",
   "execution_count": null,
   "metadata": {},
   "outputs": [],
   "source": [
    "$pbiWorkspaces = Get-PowerBIWorkspace -Scope $scopeLevel -First 5\n",
    "\n",
    "$pbiDatasets = @()\n",
    "\n",
    "ForEach ($workspace in $pbiWorkspaces) {\n",
    "\n",
    "    $pbiDashboards = Get-PowerBIDashboard -Scope $scopeLevel -WorkspaceId $workspace.Id\n",
    "\n",
    "    ForEach ($dashboard in $pbiDashboards) {\n",
    "\n",
    "        $pbiTiles += Get-PowerBITile -Scope $scopeLevel -WorkspaceId $workspace.Id -DashboardId $dashboard.Id | select *, @{Name=\"WorkspaceId\"; Expression={ $workspace.Id } }, @{Name=\"DashboardId\"; Expression={ $dashboard.Id } }, @{Name=\"Type\"; Expression={ \"Tile\" } }\n",
    "\n",
    "    }\n",
    "    \n",
    "}\n",
    "\n",
    "$pbiTiles | Sort-Object -Property Id -Unique"
   ]
  }
 ],
 "metadata": {
  "kernelspec": {
   "display_name": ".NET (PowerShell)",
   "language": "PowerShell",
   "name": ".net-powershell"
  },
  "language_info": {
   "file_extension": ".ps1",
   "mimetype": "text/x-powershell",
   "name": "PowerShell",
   "pygments_lexer": "powershell",
   "version": "3.7.6-final"
  }
 },
 "nbformat": 4,
 "nbformat_minor": 4
}