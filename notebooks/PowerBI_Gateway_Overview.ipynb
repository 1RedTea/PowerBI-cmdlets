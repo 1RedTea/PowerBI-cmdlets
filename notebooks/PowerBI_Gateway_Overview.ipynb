{
    "metadata": {
        "kernelspec": {
            "display_name": ".NET (PowerShell)",
            "language": "PowerShell",
            "name": ".net-powershell"
        },
        "language_info": {
            "name": "python",
            "version": ""
        }
    },
    "nbformat_minor": 2,
    "nbformat": 4,
    "cells": [
        {
            "cell_type": "markdown",
            "source": [
                "# Microsoft Power BI Cmdlets for Windows PowerShell and PowerShell Core\n",
                "The following cmdlets are available on PowerShell Gallery and can be installed in an elevated PowerShell session:\n",
                "- [Data Gateway](https://docs.microsoft.com/en-us/powershell/module/datagateway/?view=datagateway-ps)"
            ],
            "metadata": {
                "azdata_cell_guid": "3ac78459-986e-4d79-8819-8f44f0a81a25"
            }
        },
        {
            "cell_type": "code",
            "source": [
                "try {Import-Module DataGateway -ErrorAction Stop} \n",
                "catch {Install-Module -Name DataGateway -Scope CurrentUser -Force} \n",
                "finally {Import-Module DataGateway}"
            ],
            "metadata": {
                "scrolled": true,
                "azdata_cell_guid": "4fefd8d1-f7e8-411a-8149-8cae990ab08a"
            },
            "outputs": [],
            "execution_count": null
        },
        {
            "cell_type": "markdown",
            "source": [
                "# Available Cmdlets\n",
                "Returns the available cmdlets from either the MicrosoftPowerBIMGMT or DataGateway module."
            ],
            "metadata": {
                "azdata_cell_guid": "bf1c605c-fab2-4ad3-b010-9e6be86fc7ac"
            }
        },
        {
            "cell_type": "code",
            "source": [
                "Get-Help *DataGateway* | Sort-Object Name | Format-Table -AutoSize"
            ],
            "metadata": {
                "scrolled": false,
                "azdata_cell_guid": "831d73ae-45c2-4674-ac1f-f8ad39a01dfb"
            },
            "outputs": [],
            "execution_count": null
        },
        {
            "cell_type": "markdown",
            "source": [
                "# Connect to Data Gateway\n",
                "\n",
                "Connect to the Data Gateway service with either a user or service principal account (application secret or certificate).\n",
                "\n",
                "For user accounts, an Azure Active Directory (AAD) First-Party application is leveraged for authentication.\n",
                "\n",
                "**For Government:** Connect-DataGatewayServiceAccount -Environment USGov\n",
                "\n",
                "Learn More: [Examples](https://docs.microsoft.com/en-us/powershell/module/datagateway.profile/connect-datagatewayserviceaccount?view=datagateway-ps#examples)"
            ],
            "metadata": {
                "azdata_cell_guid": "8e63d64f-0b93-4dc7-a3cc-454461a3b226"
            }
        },
        {
            "cell_type": "code",
            "source": [
                "Connect-DataGatewayServiceAccount"
            ],
            "metadata": {
                "scrolled": true,
                "azdata_cell_guid": "89404c9f-ab64-4fd8-b37d-8b415d13b3f0"
            },
            "outputs": [],
            "execution_count": null
        },
        {
            "cell_type": "markdown",
            "source": [
                "# Scope\n",
                "\n",
                "Indicates the scope of the call.\n",
                "- -Scope Individual\n",
                "    - Returns only gateways assigned to the caller.\n",
                "- -Scope Organization\n",
                "    - Returns all gateways within a tenant (You must be an O365 tenant admin, Power Platform admin or a Power BI admin)."
            ],
            "metadata": {
                "azdata_cell_guid": "8a26a65f-0e07-437b-bc85-0e8c471be97a"
            }
        },
        {
            "cell_type": "code",
            "source": [
                "$scopeLevel = \"Individual\""
            ],
            "metadata": {
                "azdata_cell_guid": "585d7c63-6293-4930-a233-e07dd85870c5"
            },
            "outputs": [],
            "execution_count": null
        },
        {
            "cell_type": "markdown",
            "source": [
                "# Return a list of Data Gateways\n",
                "\n",
                "Get gateway clusters for which the current user is an administrator."
            ],
            "metadata": {
                "azdata_cell_guid": "401f94a6-6afe-4a35-be65-5ffdfa0d36a3"
            }
        },
        {
            "cell_type": "code",
            "source": [
                "$gateways = Get-DataGatewayCluster -Scope $scopeLevel\n",
                "\n",
                "Write-Host \"Total Number of Gateways: $($gateways.Count)\"\n",
                "\n",
                "$gateways"
            ],
            "metadata": {
                "scrolled": false,
                "azdata_cell_guid": "a4eb26c4-f614-48d4-9ee2-b0eb9532e105",
                "tags": []
            },
            "outputs": [],
            "execution_count": null
        },
        {
            "cell_type": "markdown",
            "source": [
                "# Data Gateway Statuses"
            ],
            "metadata": {
                "azdata_cell_guid": "3abc487c-3ab2-4c13-97f5-85b6852ab1db"
            }
        },
        {
            "cell_type": "code",
            "source": [
                "$dataGateways = Get-DataGatewayCluster -Scope $scopeLevel\n",
                "\n",
                "$gateways = @()\n",
                "\n",
                "ForEach ($dataGateway in $dataGateways) {\n",
                "    \n",
                "    $gateways += Get-DataGatewayClusterStatus -GatewayClusterId $dataGateway.Id\n",
                "                | Select *, @{Name=\"GatewayId\"; Expression={ $dataGateway.Id } }\n",
                "\n",
                "}\n",
                "\n",
                "$gateways"
            ],
            "metadata": {
                "scrolled": true,
                "azdata_cell_guid": "e4185865-1151-4352-88fd-2c9f6fd100d7"
            },
            "outputs": [],
            "execution_count": null
        },
        {
            "cell_type": "markdown",
            "source": [
                "# Gateway Upgrades\n",
                "\n",
                "Get a list of gateways where a new version is available."
            ],
            "metadata": {
                "azdata_cell_guid": "2723805e-35d8-4723-8e19-6daedb74409c"
            }
        },
        {
            "cell_type": "code",
            "source": [
                "$dataGateways = Get-DataGatewayCluster -Scope $scopeLevel\n",
                "\n",
                "$gateways = @()\n",
                "\n",
                "ForEach ($dataGateway in $dataGateways) {\n",
                "    \n",
                "    $gateways += Get-DataGatewayClusterStatus -GatewayClusterId $dataGateway.Id \n",
                "                | Where-Object {$_.GatewayUpgradeState -eq \"NewVersionAvailable\"} \n",
                "                | Select *, @{Name=\"GatewayId\"; Expression={ $dataGateway.Id } } \n",
                "                \n",
                "}\n",
                "\n",
                "Write-Host \"Total Gateways with a new version available: $($gateways.Count)\"\n",
                "\n",
                "$gateways"
            ],
            "metadata": {
                "scrolled": true,
                "azdata_cell_guid": "68e98c9f-87ae-4c79-9a61-e76a5d608ec0"
            },
            "outputs": [],
            "execution_count": null
        },
        {
            "cell_type": "markdown",
            "source": [
                "# Return Member Data Gateways\n",
                "\n",
                "Get details of each member gateway."
            ],
            "metadata": {
                "azdata_cell_guid": "59b737ba-bce9-4ff1-8e42-efef4fba7dff"
            }
        },
        {
            "cell_type": "code",
            "source": [
                "$dataGateways = Get-DataGatewayCluster -Scope $scopeLevel\n",
                "\n",
                "$gateways = @()\n",
                "\n",
                "ForEach ($dataGateway in $dataGateways) {\n",
                "    \n",
                "    $gateways += Get-DataGatewayCluster -GatewayClusterId $dataGateway.Id\n",
                "                | Select -ExpandProperty MemberGateways\n",
                "\n",
                "}\n",
                "\n",
                "$gateways | Sort-Object -Property ClusterId"
            ],
            "metadata": {
                "scrolled": true,
                "azdata_cell_guid": "9db098ad-f8e6-4e56-a0a8-c20a5436876d"
            },
            "outputs": [],
            "execution_count": null
        },
        {
            "cell_type": "markdown",
            "source": [
                "# Return Data Gateway Permissions\n",
                "\n",
                "Get a list of users with permissions to administer or use the gateway cluster"
            ],
            "metadata": {
                "azdata_cell_guid": "e1aab096-bf28-49ad-b882-2ea3e0977614"
            }
        },
        {
            "cell_type": "code",
            "source": [
                "$dataGateways = Get-DataGatewayCluster -Scope $scopeLevel\n",
                "\n",
                "$gateways = @()\n",
                "\n",
                "ForEach ($dataGateway in $dataGateways) {\n",
                "    \n",
                "    $gateways += Get-DataGatewayCluster -GatewayClusterId $dataGateway.Id\n",
                "                | Select -ExpandProperty Permissions\n",
                "\n",
                "}\n",
                "\n",
                "$gateways | Sort-Object -Property ClusterId"
            ],
            "metadata": {
                "scrolled": true,
                "azdata_cell_guid": "59df8eec-4fd5-4cb9-a7e2-3205e5d4de52"
            },
            "outputs": [],
            "execution_count": null
        },
        {
            "cell_type": "markdown",
            "source": [
                "# Data Gateway Details\n",
                "\n",
                "Gets all gateway regions along with an identification of the default Power BI region for your tenant."
            ],
            "metadata": {
                "azdata_cell_guid": "97f00f32-36db-4e0b-8af0-2751fada748d"
            }
        },
        {
            "cell_type": "code",
            "source": [
                "Get-DataGatewayRegion"
            ],
            "metadata": {
                "scrolled": false,
                "azdata_cell_guid": "cda43c27-4477-4093-98a1-1a2aee5f578a"
            },
            "outputs": [],
            "execution_count": null
        },
        {
            "cell_type": "markdown",
            "source": [
                "# Data Gateway Tenant Policy\n",
                "\n",
                "Returns Tenant Policy Information"
            ],
            "metadata": {
                "azdata_cell_guid": "4038ad27-4d05-4ced-aa3a-ab813c466aab"
            }
        },
        {
            "cell_type": "code",
            "source": [
                "Get-DataGatewayTenantPolicy"
            ],
            "metadata": {
                "scrolled": true,
                "azdata_cell_guid": "f94bb1aa-3a3e-4de3-9892-50660bedda71"
            },
            "outputs": [],
            "execution_count": null
        },
        {
            "cell_type": "markdown",
            "source": [
                "# Enable on-premises and cloud data sources on cluster\n",
                "\n",
                "You can use the on-premises data gateway to merge or append on-premises and cloud data sources in the same query. This solution is helpful when you want to combine data from multiple sources without having to use separate queries.\n",
                "\n",
                "<b>Note:</b> The following script enables for all data gateways.\n",
                "\n",
                "Learn More: [Merge or append on-premises and cloud data sources](https://docs.microsoft.com/en-us/power-bi/connect-data/service-gateway-mashup-on-premises-cloud)"
            ],
            "metadata": {
                "azdata_cell_guid": "3c159d69-9fc5-48e4-af9a-86b4599401f2"
            }
        },
        {
            "cell_type": "code",
            "source": [
                "$dataGateways = Get-DataGatewayCluster -Scope $scopeLevel\n",
                "\n",
                "ForEach ($dataGateway in $dataGateways) {\n",
                "  \n",
                "    Set-DataGatewayCluster -GatewayClusterId $dataGateway.Id -AllowCloudDatasourceRefresh $true\n",
                "    Write-Host \"Cloud Data Source Refresh Now Enabled: $($dataGateway.Id)\" \n",
                "\n",
                "}"
            ],
            "metadata": {
                "azdata_cell_guid": "d3e7aa3d-76da-4dd5-80dc-4cc61588d92d"
            },
            "outputs": [],
            "execution_count": null
        }
    ]
}