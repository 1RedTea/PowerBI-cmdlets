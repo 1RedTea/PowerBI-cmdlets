{
 "cells": [
  {
   "cell_type": "markdown",
   "metadata": {},
   "source": [
    "# Connect to Power BI service\n",
    "Login with Azure Active Directory user authentication or Service Principal credentials."
   ]
  },
  {
   "cell_type": "code",
   "execution_count": 31,
   "metadata": {
    "tags": []
   },
   "outputs": [
    {
     "name": "stdout",
     "output_type": "stream",
     "text": [
      "\n",
      "Environment : Public\n",
      "TenantId    : 644d9875-54f6-4f5f-b562-2a14755779f7\n",
      "UserName    : alpowers@powerbichamps.net\n",
      "\n",
      "\n"
     ]
    }
   ],
   "source": [
    "Connect-PowerBIServiceAccount"
   ]
  },
  {
   "cell_type": "markdown",
   "metadata": {},
   "source": [
    "# Return a list of the Power BI Apps installed by the user\n",
    "\n",
    "Return a listing of the Power BI apps installed by the user including the additional attribute Type."
   ]
  },
  {
   "cell_type": "code",
   "execution_count": 41,
   "metadata": {
    "tags": []
   },
   "outputs": [
    {
     "name": "stdout",
     "output_type": "stream",
     "text": [
      "\n",
      "id          : 7fcd056c-6fb9-460e-a46d-b865103e6faa\n",
      "name        : Sales and Marketing sample 6/25/2020, 1:19:16 PM\n",
      "lastUpdate  : 6/29/2020 2:29:04 PM\n",
      "description : Demo test.\n",
      "publishedBy : Alex Powers\n",
      "Type        : App\n",
      "\n",
      "id          : e29d34ab-0fef-4acf-b09c-1682ae1a51c2\n",
      "name        : Campaign Analytics\n",
      "lastUpdate  : 4/3/2018 9:07:36 PM\n",
      "description : email marketing analytics\n",
      "publishedBy : Demo User\n",
      "Type        : App\n",
      "\n",
      "Length : 76\n",
      "Type   : App\n",
      "\n",
      "\n"
     ]
    }
   ],
   "source": [
    "$json = Invoke-PowerBIRestMethod -Url 'https://api.powerbi.com/v1.0/myorg/apps' -Method GET\n",
    "\n",
    "$pbiApps = (ConvertFrom-Json $json).psobject.properties.value | select *, @{Name=\"Type\"; Expression={ \"App\" } }\n",
    "\n",
    "$pbiApps | Sort-Object -Property id -Unique"
   ]
  },
  {
   "cell_type": "code",
   "execution_count": 40,
   "metadata": {},
   "outputs": [
    {
     "name": "stdout",
     "output_type": "stream",
     "text": [
      "\n",
      "name                           state   extendedState\n",
      "----                           -----   -------------\n",
      "automaticallyPushAppToEndUsers Enabled Enabled\n",
      "cdsa                           Enabled Enabled\n",
      "embedTrial                     Enabled Enabled\n",
      "publishAppToEntireOrganization Enabled Enabled\n",
      "http://wabi-us-east2-redirect.analysis.windows.net/v1.0/myorg/$metadata#Microsoft.PowerBI.ServiceContracts.Api.AvailableFeatures\n",
      "\n"
     ]
    }
   ],
   "source": [
    "$json = Invoke-PowerBIRestMethod -URL 'https://api.powerbi.com/v1.0/myorg/availableFeatures' -Method GET\n",
    "\n",
    "$pbiFeatures = (ConvertFrom-Json $json).psobject.properties.Value\n",
    "\n",
    "$pbiFeatures | Sort-Object -Property name -Unique"
   ]
  }
 ],
 "metadata": {
  "kernelspec": {
   "display_name": ".NET (PowerShell)",
   "language": "PowerShell",
   "name": ".net-powershell"
  },
  "language_info": {
   "file_extension": ".ps1",
   "mimetype": "text/x-powershell",
   "name": "PowerShell",
   "pygments_lexer": "powershell",
   "version": "7.0"
  }
 },
 "nbformat": 4,
 "nbformat_minor": 4
}
